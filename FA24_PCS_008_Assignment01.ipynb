{
  "nbformat": 4,
  "nbformat_minor": 0,
  "metadata": {
    "colab": {
      "provenance": []
    },
    "kernelspec": {
      "name": "python3",
      "display_name": "Python 3"
    },
    "language_info": {
      "name": "python"
    }
  },
  "cells": [
    {
      "cell_type": "markdown",
      "source": [
        "**Assignment 01 ML**"
      ],
      "metadata": {
        "id": "NwU6r-7L2Cg_"
      }
    },
    {
      "cell_type": "code",
      "source": [
        "# 1.1 Create a list: nums = [3, 5, 7, 8, 12], make another list named ‘cubes’ and append the cubes of the given list ‘nums’ in this list and print it.\n",
        "\n",
        "nums = [3, 5, 7, 8, 12]\n",
        "cubes = []\n",
        "for num in nums:\n",
        "  cubes.append(num**3)\n",
        "print(cubes)\n"
      ],
      "metadata": {
        "colab": {
          "base_uri": "https://localhost:8080/"
        },
        "id": "JWmn2ljo2JoH",
        "outputId": "af2256e5-82ea-49b4-98c7-19a0089ef5fc"
      },
      "execution_count": 122,
      "outputs": [
        {
          "output_type": "stream",
          "name": "stdout",
          "text": [
            "[27, 125, 343, 512, 1728]\n"
          ]
        }
      ]
    },
    {
      "cell_type": "code",
      "source": [
        "# 1.2 Create an empty dictionary: dict = {}, add the following data to the dictionary: ‘parrot’: 2, ‘goat’: 4, ‘spider’: 8, ‘crab’: 10 as key value pairs.\n",
        "\n",
        "dict = {}\n",
        "dict['parrot'] = 2\n",
        "dict['goat'] = 4\n",
        "dict['spider'] = 8\n",
        "dict['crab'] = 10\n",
        "print(dict)\n"
      ],
      "metadata": {
        "colab": {
          "base_uri": "https://localhost:8080/"
        },
        "id": "xAQCTVsm3KhS",
        "outputId": "9e998a63-9dae-4df6-c74c-06312c3594d0"
      },
      "execution_count": 123,
      "outputs": [
        {
          "output_type": "stream",
          "name": "stdout",
          "text": [
            "{'parrot': 2, 'goat': 4, 'spider': 8, 'crab': 10}\n"
          ]
        }
      ]
    },
    {
      "cell_type": "code",
      "source": [
        "# 1.3 Use the ‘items’ method to loop over the dictionary (dict) and print the animals and their corresponding legs. Sum the legs of each animal, and print the total at the end.\n",
        "\n",
        "total_legs = 0\n",
        "for animal, legs in dict.items():\n",
        "  print(f\"{animal} has {legs} legs.\")\n",
        "  total_legs += legs\n",
        "\n",
        "print(f\"\\nTotal number of legs: {total_legs}\")\n"
      ],
      "metadata": {
        "colab": {
          "base_uri": "https://localhost:8080/"
        },
        "id": "-hEdo3G93Vvh",
        "outputId": "b1a120f2-4a76-4985-890b-2c79f01049d6"
      },
      "execution_count": 124,
      "outputs": [
        {
          "output_type": "stream",
          "name": "stdout",
          "text": [
            "parrot has 2 legs.\n",
            "goat has 4 legs.\n",
            "spider has 8 legs.\n",
            "crab has 10 legs.\n",
            "\n",
            "Total number of legs: 24\n"
          ]
        }
      ]
    },
    {
      "cell_type": "code",
      "source": [
        "# 1.4 Create a tuple: A = (3, 9, 4, [5, 6]), change the value in the list from ‘5’ to ‘8’.\n",
        "\n",
        "A = (3, 9, 4, [5, 6])\n",
        "A[3][0] = 8\n",
        "print(A)\n"
      ],
      "metadata": {
        "colab": {
          "base_uri": "https://localhost:8080/"
        },
        "id": "LQvOZ_SP3sRt",
        "outputId": "77f0b509-403b-4150-cf10-6ab89394c47d"
      },
      "execution_count": 125,
      "outputs": [
        {
          "output_type": "stream",
          "name": "stdout",
          "text": [
            "(3, 9, 4, [8, 6])\n"
          ]
        }
      ]
    },
    {
      "cell_type": "code",
      "source": [
        "# 1.5 Delete the tuple A.\n",
        "\n",
        "del A\n"
      ],
      "metadata": {
        "id": "EVM_lTiQ37DC"
      },
      "execution_count": 126,
      "outputs": []
    },
    {
      "cell_type": "code",
      "source": [
        "# 1.6 Create another tuple: B = (‘a’, ‘p’, ‘p’, ‘l’, ‘e’), print the number of occurrences of ‘p’ in the tuple.\n",
        "\n",
        "B = ('a', 'p', 'p', 'l', 'e')\n",
        "print(B.count('p'))\n"
      ],
      "metadata": {
        "colab": {
          "base_uri": "https://localhost:8080/"
        },
        "id": "dX7ep8ke4Tzc",
        "outputId": "1f7a622d-69e7-4110-8dde-1574d8ba24a7"
      },
      "execution_count": 127,
      "outputs": [
        {
          "output_type": "stream",
          "name": "stdout",
          "text": [
            "2\n"
          ]
        }
      ]
    },
    {
      "cell_type": "code",
      "source": [
        "# 1.7 Print the index of ‘l’ in the tuple.\n",
        "\n",
        "B = ('a', 'p', 'p', 'l', 'e')\n",
        "print(B.index('l'))\n"
      ],
      "metadata": {
        "colab": {
          "base_uri": "https://localhost:8080/"
        },
        "id": "OGaWLC-b4ddd",
        "outputId": "57668e46-fcb8-4146-9bcf-1eb015474245"
      },
      "execution_count": 128,
      "outputs": [
        {
          "output_type": "stream",
          "name": "stdout",
          "text": [
            "3\n"
          ]
        }
      ]
    },
    {
      "cell_type": "markdown",
      "source": [
        "**Task 02: Numpy**\n",
        "\n",
        "Use built-in functions of numpy library to complete this task.\n",
        "List of functions available here (https://numpy.org/doc/1.19/genindex.html)\n",
        "\n",
        "A =\n",
        "1 2 3 4\n",
        "5 6 7 8\n",
        "9 10 11 12\n",
        "\n",
        "\n",
        "z = np.array([1, 0, 1])\n"
      ],
      "metadata": {
        "id": "UVBrCe6_4zVQ"
      }
    },
    {
      "cell_type": "code",
      "source": [
        "# 2.1  Convert matrix A into numpy array\n",
        "\n",
        "import numpy as np\n",
        "\n",
        "A = np.array([[1, 2, 3, 4],\n",
        "              [5, 6, 7, 8],\n",
        "              [9, 10, 11, 12]])\n",
        "print(A)\n"
      ],
      "metadata": {
        "colab": {
          "base_uri": "https://localhost:8080/"
        },
        "id": "TQgpazAN470-",
        "outputId": "7cefcb0f-ebf4-4254-b43d-7a97b3dda93d"
      },
      "execution_count": 129,
      "outputs": [
        {
          "output_type": "stream",
          "name": "stdout",
          "text": [
            "[[ 1  2  3  4]\n",
            " [ 5  6  7  8]\n",
            " [ 9 10 11 12]]\n"
          ]
        }
      ]
    },
    {
      "cell_type": "code",
      "source": [
        "# 2.2  Use slicing to pull out the subarray consisting of the first 2 rows and columns 1 and 2. Store it in b which is a numpy array of shape (2, 2).\n",
        "\n",
        "b = A[:2, 1:3]\n",
        "print(b)\n"
      ],
      "metadata": {
        "colab": {
          "base_uri": "https://localhost:8080/"
        },
        "id": "_DGEQOZ05fVr",
        "outputId": "3470afe3-3040-43d3-98fe-fec1d9293d3b"
      },
      "execution_count": 130,
      "outputs": [
        {
          "output_type": "stream",
          "name": "stdout",
          "text": [
            "[[2 3]\n",
            " [6 7]]\n"
          ]
        }
      ]
    },
    {
      "cell_type": "code",
      "source": [
        "# 2.3  Create an empty matrix ‘C’ with the same shape as ‘A’.\n",
        "C=np.empty_like(A)\n",
        "print(C)\n"
      ],
      "metadata": {
        "colab": {
          "base_uri": "https://localhost:8080/"
        },
        "id": "I3OAPzGU550x",
        "outputId": "79d55b8e-4bfb-49eb-fafc-a2689e56f469"
      },
      "execution_count": 131,
      "outputs": [
        {
          "output_type": "stream",
          "name": "stdout",
          "text": [
            "[[ 2  3  4  5]\n",
            " [ 5  6  7  8]\n",
            " [10 11 12 13]]\n"
          ]
        }
      ]
    },
    {
      "cell_type": "code",
      "source": [
        "# 2.4  Add the vector z to each column of the matrix ‘A’ with an explicit loop and store it in ‘C’.\n",
        "\n",
        "import numpy as np\n",
        "z = np.array([1, 0, 1])\n",
        "\n",
        "for i in range(A.shape[1]):\n",
        "  C[:, i] = A[:, i] + z\n",
        "\n",
        "print(C)\n"
      ],
      "metadata": {
        "colab": {
          "base_uri": "https://localhost:8080/"
        },
        "id": "_CGlm-Lv87eU",
        "outputId": "c801b0ae-69df-46b9-a550-322e1ddcdb80"
      },
      "execution_count": 132,
      "outputs": [
        {
          "output_type": "stream",
          "name": "stdout",
          "text": [
            "[[ 2  3  4  5]\n",
            " [ 5  6  7  8]\n",
            " [10 11 12 13]]\n"
          ]
        }
      ]
    },
    {
      "cell_type": "code",
      "source": [
        "# Create the following:\n",
        "# X = np.array([[1,2],[3,4]])\n",
        "# Y = np.array([[5,6],[7,8]])\n",
        "# v = np.array([9,10])\n",
        "\n",
        "X = np.array([[1,2],[3,4]])\n",
        "print(X)\n",
        "Y = np.array([[5,6],[7,8]])\n",
        "print(Y)\n",
        "v = np.array([9,10])\n",
        "print(v)\n"
      ],
      "metadata": {
        "colab": {
          "base_uri": "https://localhost:8080/"
        },
        "id": "cvuD5qLy-UJ7",
        "outputId": "65d1c1e5-fbf1-420d-fe03-3db9a68312d2"
      },
      "execution_count": 133,
      "outputs": [
        {
          "output_type": "stream",
          "name": "stdout",
          "text": [
            "[[1 2]\n",
            " [3 4]]\n",
            "[[5 6]\n",
            " [7 8]]\n",
            "[ 9 10]\n"
          ]
        }
      ]
    },
    {
      "cell_type": "code",
      "source": [
        "# 2.5 Add and print the matrices X and Y.\n",
        "\n",
        "import numpy as np\n",
        "print(np.add(X, Y))\n"
      ],
      "metadata": {
        "colab": {
          "base_uri": "https://localhost:8080/"
        },
        "id": "Rjvgd6FMAfso",
        "outputId": "8c4c842d-e56b-4093-e608-8ad6357e251e"
      },
      "execution_count": 134,
      "outputs": [
        {
          "output_type": "stream",
          "name": "stdout",
          "text": [
            "[[ 6  8]\n",
            " [10 12]]\n"
          ]
        }
      ]
    },
    {
      "cell_type": "code",
      "source": [
        "# 2.6 Multiply and print the matrices X and Y.\n",
        "\n",
        "print(np.matmul(X, Y))\n"
      ],
      "metadata": {
        "colab": {
          "base_uri": "https://localhost:8080/"
        },
        "id": "xrDv6TyEA0L0",
        "outputId": "13495b78-f3ab-4ecb-eaff-01c270e61c7b"
      },
      "execution_count": 135,
      "outputs": [
        {
          "output_type": "stream",
          "name": "stdout",
          "text": [
            "[[19 22]\n",
            " [43 50]]\n"
          ]
        }
      ]
    },
    {
      "cell_type": "code",
      "source": [
        "# 2.7 Compute and print the element wise square root of matrix Y.\n",
        "\n",
        "print(np.sqrt(Y))\n"
      ],
      "metadata": {
        "colab": {
          "base_uri": "https://localhost:8080/"
        },
        "id": "KSKyMyPCA8MX",
        "outputId": "06dd6a1c-70da-4546-d0ef-1f7043626369"
      },
      "execution_count": 136,
      "outputs": [
        {
          "output_type": "stream",
          "name": "stdout",
          "text": [
            "[[2.23606798 2.44948974]\n",
            " [2.64575131 2.82842712]]\n"
          ]
        }
      ]
    },
    {
      "cell_type": "code",
      "source": [
        "# 2.8  Compute and print the dot product of the matrix X and vector v.\n",
        "\n",
        "print(np.dot(X, v))\n"
      ],
      "metadata": {
        "colab": {
          "base_uri": "https://localhost:8080/"
        },
        "id": "Udw1c5woBN8m",
        "outputId": "c92c143c-40d4-4bb0-e636-94c2fadb6b71"
      },
      "execution_count": 137,
      "outputs": [
        {
          "output_type": "stream",
          "name": "stdout",
          "text": [
            "[29 67]\n"
          ]
        }
      ]
    },
    {
      "cell_type": "code",
      "source": [
        "# 2.9  Compute and print the sum of each column of X.\n",
        "\n",
        "print(np.sum(X, axis=0))\n"
      ],
      "metadata": {
        "colab": {
          "base_uri": "https://localhost:8080/"
        },
        "id": "K-42RGE7BjAx",
        "outputId": "54f0c775-886b-40c9-e9d1-d1b9369eb3d2"
      },
      "execution_count": 138,
      "outputs": [
        {
          "output_type": "stream",
          "name": "stdout",
          "text": [
            "[4 6]\n"
          ]
        }
      ]
    },
    {
      "cell_type": "markdown",
      "source": [
        "**Task 3: Functions and Loops**\n"
      ],
      "metadata": {
        "id": "iPD0RgS5B2E3"
      }
    },
    {
      "cell_type": "code",
      "source": [
        "# 3.2 Make a list named ‘even_num’ that contains all even numbers up till 12. Create a function ‘mult’ that takes the list ‘even_num’  as an argument and calculates the products of all entries using a for loop.\n",
        "\n",
        "nums=[i for i in range(0,13)]\n",
        "even_num = [i for i in nums if i%2==0]\n",
        "\n",
        "def mult(even_num):\n",
        "  product = 1\n",
        "  for num in even_num:\n",
        "    product *= num\n",
        "  return product\n",
        "\n",
        "result = mult(even_num)\n",
        "print(result)\n",
        "\n"
      ],
      "metadata": {
        "colab": {
          "base_uri": "https://localhost:8080/"
        },
        "id": "2DMpnjjLCipy",
        "outputId": "bb8ed962-917b-433d-ebb4-bee38b2ed3b9"
      },
      "execution_count": 139,
      "outputs": [
        {
          "output_type": "stream",
          "name": "stdout",
          "text": [
            "0\n"
          ]
        }
      ]
    },
    {
      "cell_type": "code",
      "source": [
        "# 3.1 Create a function ‘Compute’ that takes two arguments, distance and time, and use it to calculate velocity.\n",
        "\n",
        "def Compute(distance, time):\n",
        "\n",
        "  if time == 0:\n",
        "    return 0  # Avoid division by zero\n",
        "  velocity = distance / time\n",
        "  return velocity\n",
        "\n",
        "\n",
        "velocity = Compute(100, 5)\n",
        "print(f\"Velocity: {velocity} m/s\")\n"
      ],
      "metadata": {
        "colab": {
          "base_uri": "https://localhost:8080/"
        },
        "id": "Y06WHJOJB6Lu",
        "outputId": "b86a81ff-7253-4200-d9cb-37780b570a3c"
      },
      "execution_count": 140,
      "outputs": [
        {
          "output_type": "stream",
          "name": "stdout",
          "text": [
            "Velocity: 20.0 m/s\n"
          ]
        }
      ]
    },
    {
      "cell_type": "markdown",
      "source": [
        "**Task 4: Pandas**\n",
        "\n",
        "Create a Pandas dataframe named ‘pd’ that contains 5 rows and 4 columns, similar to the one given below:\n",
        "![image.png](data:image/png;base64,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)\n",
        "\n"
      ],
      "metadata": {
        "id": "zU_lg1UHFpKC"
      }
    },
    {
      "cell_type": "code",
      "source": [
        "# 4.1 Create a Pandas dataframe named ‘pd’ that contains 5 rows and 4 columns, similar to the one given below\n",
        "\n",
        "import pandas as pd\n",
        "\n",
        "data = {'C1': [1, 2, 3, 5, 5],\n",
        "        'C2': [6, 7, 5, 4, 8],\n",
        "        'C3': [7, 9, 8, 6, 5],\n",
        "        'C4': [7, 5, 2, 8, 8]}\n",
        "\n",
        "pd = pd.DataFrame(data)\n",
        "print(pd)\n"
      ],
      "metadata": {
        "colab": {
          "base_uri": "https://localhost:8080/"
        },
        "id": "Yj-0Tu00FwaM",
        "outputId": "ce3625b1-be7c-41e5-a8c4-8ac851645887"
      },
      "execution_count": 141,
      "outputs": [
        {
          "output_type": "stream",
          "name": "stdout",
          "text": [
            "   C1  C2  C3  C4\n",
            "0   1   6   7   7\n",
            "1   2   7   9   5\n",
            "2   3   5   8   2\n",
            "3   5   4   6   8\n",
            "4   5   8   5   8\n"
          ]
        }
      ]
    },
    {
      "cell_type": "code",
      "source": [
        "# 4.2 prompt: Print the second column.\n",
        "\n",
        "print(pd['C2'])\n"
      ],
      "metadata": {
        "colab": {
          "base_uri": "https://localhost:8080/"
        },
        "id": "JBwboBT_Lbcy",
        "outputId": "7718c5f6-1acc-412b-85a9-c4b734fd2941"
      },
      "execution_count": 142,
      "outputs": [
        {
          "output_type": "stream",
          "name": "stdout",
          "text": [
            "0    6\n",
            "1    7\n",
            "2    5\n",
            "3    4\n",
            "4    8\n",
            "Name: C2, dtype: int64\n"
          ]
        }
      ]
    },
    {
      "cell_type": "code",
      "source": [
        "# 4.3 Change the name of the third column from ‘C3’ to ‘B3’\n",
        "\n",
        "pd = pd.rename(columns={'C3': 'B3'})\n",
        "print(pd)\n"
      ],
      "metadata": {
        "colab": {
          "base_uri": "https://localhost:8080/"
        },
        "id": "aLUz6g3RLuco",
        "outputId": "9d28cd6e-2316-4891-813d-48aefcd11f34"
      },
      "execution_count": 145,
      "outputs": [
        {
          "output_type": "stream",
          "name": "stdout",
          "text": [
            "   C1  C2  B3  C4\n",
            "0   1   6   7   7\n",
            "1   2   7   9   5\n",
            "2   3   5   8   2\n",
            "3   5   4   6   8\n",
            "4   5   8   5   8\n"
          ]
        }
      ]
    },
    {
      "cell_type": "code",
      "source": [
        "\n",
        "# 4.4 add a new column to the dataframe and name it ‘Sum’.\n",
        "\n",
        "pd.insert(4,\"Sum\",[0,0,0,0,0])\n",
        "\n"
      ],
      "metadata": {
        "id": "AY5EaUfNL7L1"
      },
      "execution_count": 150,
      "outputs": []
    },
    {
      "cell_type": "code",
      "source": [
        "# 4.5 prompt: Sum the entries of each row and add the result in the column ‘Sum’\n",
        "\n",
        "pd['Sum'] = pd.sum(axis=1)\n",
        "print(pd)\n"
      ],
      "metadata": {
        "colab": {
          "base_uri": "https://localhost:8080/"
        },
        "id": "C7skXo2HNI7i",
        "outputId": "a8658a31-11b3-4936-dd75-6703c14b8eed"
      },
      "execution_count": 152,
      "outputs": [
        {
          "output_type": "stream",
          "name": "stdout",
          "text": [
            "   C1  C2  B3  C4  Sum\n",
            "0   1   6   7   7   21\n",
            "1   2   7   9   5   23\n",
            "2   3   5   8   2   18\n",
            "3   5   4   6   8   23\n",
            "4   5   8   5   8   26\n"
          ]
        }
      ]
    },
    {
      "cell_type": "code",
      "source": [
        "# 4.6 Read CSV file named ‘hello_sample.csv’ (the file is available in the class Google Drive shared folder) into a Pandas dataframe.\n",
        "import pandas as pd\n",
        "df = pd.read_csv('/content/hello_sample.csv')"
      ],
      "metadata": {
        "id": "z5Y1lnF7TOO0"
      },
      "execution_count": 3,
      "outputs": []
    },
    {
      "cell_type": "code",
      "source": [
        "# 4.7  Print complete dataframe.\n",
        "print(df)"
      ],
      "metadata": {
        "colab": {
          "base_uri": "https://localhost:8080/"
        },
        "id": "aNhCdeABYnTv",
        "outputId": "0d2ae2de-df40-4a40-c590-b48de3685146"
      },
      "execution_count": 4,
      "outputs": [
        {
          "output_type": "stream",
          "name": "stdout",
          "text": [
            "    Gender  F_Color     B_Month  Weight\n",
            "0     Male    Black       March      77\n",
            "1     Male      Red       March      72\n",
            "2     Male    Black     October      53\n",
            "3   Female     Blue    February      63\n",
            "4     Male    black    October       80\n",
            "5   Female    Black    december      97\n",
            "6     Male   Orange      August      60\n",
            "7   Female      Red   September      59\n",
            "8     Male     Blue        July      60\n",
            "9     Male     Blue         May      58\n",
            "10  Female      Red    October       60\n",
            "11    Male    Black   September      65\n",
            "12    Male    Green    December      85\n",
            "13    Male    Black       April      72\n",
            "14    Male    Green    January       90\n",
            "15    Male   Yellow   November       90\n",
            "16    Male    Black      August      54\n",
            "17    Male    Black     January      82\n",
            "18    Male  Mustard   December       60\n",
            "19  Female    Black    October       76\n",
            "20    Male    Black   February       67\n",
            "21    Male   Yellow       April      74\n",
            "22    Male      Red  September       66\n"
          ]
        }
      ]
    },
    {
      "cell_type": "code",
      "source": [
        "# 4.8 Print only bottom 2 records of the dataframe.\n",
        "\n",
        "print(df.tail(2))\n"
      ],
      "metadata": {
        "colab": {
          "base_uri": "https://localhost:8080/"
        },
        "id": "DwHURUl2Yy4F",
        "outputId": "814a24fa-847d-4827-aa31-02ca0cf58d3c"
      },
      "execution_count": 5,
      "outputs": [
        {
          "output_type": "stream",
          "name": "stdout",
          "text": [
            "   Gender F_Color     B_Month  Weight\n",
            "21   Male  Yellow       April      74\n",
            "22   Male     Red  September       66\n"
          ]
        }
      ]
    },
    {
      "cell_type": "code",
      "source": [
        "# 4.9 Print information about the dataframe.\n",
        "\n",
        "print(df.info())\n"
      ],
      "metadata": {
        "colab": {
          "base_uri": "https://localhost:8080/"
        },
        "id": "J7i7GPeBY-xh",
        "outputId": "feeaa3b2-313e-4e43-9bd3-d38fa79735bd"
      },
      "execution_count": 6,
      "outputs": [
        {
          "output_type": "stream",
          "name": "stdout",
          "text": [
            "<class 'pandas.core.frame.DataFrame'>\n",
            "RangeIndex: 23 entries, 0 to 22\n",
            "Data columns (total 4 columns):\n",
            " #   Column   Non-Null Count  Dtype \n",
            "---  ------   --------------  ----- \n",
            " 0   Gender   23 non-null     object\n",
            " 1   F_Color  23 non-null     object\n",
            " 2   B_Month  23 non-null     object\n",
            " 3   Weight   23 non-null     int64 \n",
            "dtypes: int64(1), object(3)\n",
            "memory usage: 864.0+ bytes\n",
            "None\n"
          ]
        }
      ]
    },
    {
      "cell_type": "code",
      "source": [
        "# 4.10 Print shape (rows x columns) of the dataframe.\n",
        "print(df.shape)"
      ],
      "metadata": {
        "colab": {
          "base_uri": "https://localhost:8080/"
        },
        "id": "x5KzBAXDZNKa",
        "outputId": "e5e30360-a4cc-4d65-827e-2d3fabc17826"
      },
      "execution_count": 7,
      "outputs": [
        {
          "output_type": "stream",
          "name": "stdout",
          "text": [
            "(23, 4)\n"
          ]
        }
      ]
    },
    {
      "cell_type": "code",
      "source": [
        "# 4.11 Sort the data of the dataFrame using column ‘Weight’.\n",
        "\n",
        "df_sorted = df.sort_values('Weight')\n",
        "print(df_sorted)\n"
      ],
      "metadata": {
        "colab": {
          "base_uri": "https://localhost:8080/"
        },
        "id": "LeZL2dfXZgDi",
        "outputId": "3207ba2b-129c-4f44-dca6-83c7a2ae78f3"
      },
      "execution_count": 8,
      "outputs": [
        {
          "output_type": "stream",
          "name": "stdout",
          "text": [
            "    Gender  F_Color     B_Month  Weight\n",
            "2     Male    Black     October      53\n",
            "16    Male    Black      August      54\n",
            "9     Male     Blue         May      58\n",
            "7   Female      Red   September      59\n",
            "18    Male  Mustard   December       60\n",
            "10  Female      Red    October       60\n",
            "6     Male   Orange      August      60\n",
            "8     Male     Blue        July      60\n",
            "3   Female     Blue    February      63\n",
            "11    Male    Black   September      65\n",
            "22    Male      Red  September       66\n",
            "20    Male    Black   February       67\n",
            "13    Male    Black       April      72\n",
            "1     Male      Red       March      72\n",
            "21    Male   Yellow       April      74\n",
            "19  Female    Black    October       76\n",
            "0     Male    Black       March      77\n",
            "4     Male    black    October       80\n",
            "17    Male    Black     January      82\n",
            "12    Male    Green    December      85\n",
            "14    Male    Green    January       90\n",
            "15    Male   Yellow   November       90\n",
            "5   Female    Black    december      97\n"
          ]
        }
      ]
    },
    {
      "cell_type": "code",
      "source": [
        "# 4.12 Use isnull() and dropna() methods of the Pandas dataframe and see if they produce any changes.\n",
        "\n",
        "# Check for null values\n",
        "print(df.isnull().sum())\n",
        "\n",
        "# Drop rows with null values\n",
        "df_dropped = df.dropna()\n",
        "\n",
        "# Print the shape of the new dataframe\n",
        "print(df_dropped.shape)\n",
        "\n"
      ],
      "metadata": {
        "colab": {
          "base_uri": "https://localhost:8080/"
        },
        "id": "ac8tOOjOZ0Cf",
        "outputId": "e8b42447-7ab1-4525-ac5b-b317bdab5dd5"
      },
      "execution_count": 15,
      "outputs": [
        {
          "output_type": "stream",
          "name": "stdout",
          "text": [
            "Gender     0\n",
            "F_Color    0\n",
            "B_Month    0\n",
            "Weight     0\n",
            "dtype: int64\n",
            "(23, 4)\n"
          ]
        }
      ]
    },
    {
      "cell_type": "code",
      "source": [],
      "metadata": {
        "id": "mPFg2swRa5_E"
      },
      "execution_count": null,
      "outputs": []
    }
  ]
}